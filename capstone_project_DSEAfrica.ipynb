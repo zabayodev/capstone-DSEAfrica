{
 "cells": [
  {
   "cell_type": "markdown",
   "id": "439d17d6",
   "metadata": {},
   "source": [
    "DSEAfrica data science capstone project for 2023 trainings"
   ]
  },
  {
   "cell_type": "code",
   "execution_count": 1,
   "id": "41cc68f6",
   "metadata": {},
   "outputs": [],
   "source": [
    "import pandas as pd\n",
    "import numpy as np\n",
    "import psycopg2\n",
    "from sqlalchemy import create_engine"
   ]
  },
  {
   "cell_type": "code",
   "execution_count": null,
   "id": "9b667bf2",
   "metadata": {},
   "outputs": [],
   "source": [
    "data = pd.read_csv('/Users/EmmanuelM/Documents/Github/Docs/craigslist_vehicles.csv')\n",
    "data.head(3)"
   ]
  },
  {
   "cell_type": "code",
   "execution_count": 4,
   "id": "e6612103",
   "metadata": {},
   "outputs": [
    {
     "name": "stdout",
     "output_type": "stream",
     "text": [
      "<class 'pandas.core.frame.DataFrame'>\n",
      "RangeIndex: 426880 entries, 0 to 426879\n",
      "Data columns (total 28 columns):\n",
      " #   Column        Non-Null Count   Dtype  \n",
      "---  ------        --------------   -----  \n",
      " 0   Unnamed: 0    426880 non-null  int64  \n",
      " 1   id            426880 non-null  int64  \n",
      " 2   url           426880 non-null  object \n",
      " 3   region        426880 non-null  object \n",
      " 4   region_url    426880 non-null  object \n",
      " 5   price         426880 non-null  int64  \n",
      " 6   year          425675 non-null  float64\n",
      " 7   manufacturer  409234 non-null  object \n",
      " 8   model         421603 non-null  object \n",
      " 9   condition     252776 non-null  object \n",
      " 10  cylinders     249202 non-null  object \n",
      " 11  fuel          423867 non-null  object \n",
      " 12  odometer      422480 non-null  float64\n",
      " 13  title_status  418638 non-null  object \n",
      " 14  transmission  424324 non-null  object \n",
      " 15  VIN           265838 non-null  object \n",
      " 16  drive         296313 non-null  object \n",
      " 17  size          120519 non-null  object \n",
      " 18  type          334022 non-null  object \n",
      " 19  paint_color   296677 non-null  object \n",
      " 20  image_url     426812 non-null  object \n",
      " 21  description   426810 non-null  object \n",
      " 22  county        0 non-null       float64\n",
      " 23  state         426880 non-null  object \n",
      " 24  lat           420331 non-null  float64\n",
      " 25  long          420331 non-null  float64\n",
      " 26  posting_date  426812 non-null  object \n",
      " 27  removal_date  426812 non-null  object \n",
      "dtypes: float64(5), int64(3), object(20)\n",
      "memory usage: 91.2+ MB\n"
     ]
    }
   ],
   "source": [
    "data.info()"
   ]
  },
  {
   "cell_type": "code",
   "execution_count": 5,
   "id": "91a78024",
   "metadata": {},
   "outputs": [
    {
     "data": {
      "text/plain": [
       "Index(['Unnamed: 0', 'id', 'url', 'region', 'region_url', 'price', 'year',\n",
       "       'manufacturer', 'model', 'condition', 'cylinders', 'fuel', 'odometer',\n",
       "       'title_status', 'transmission', 'VIN', 'drive', 'size', 'type',\n",
       "       'paint_color', 'image_url', 'description', 'county', 'state', 'lat',\n",
       "       'long', 'posting_date', 'removal_date'],\n",
       "      dtype='object')"
      ]
     },
     "execution_count": 5,
     "metadata": {},
     "output_type": "execute_result"
    }
   ],
   "source": [
    "data.columns"
   ]
  },
  {
   "cell_type": "code",
   "execution_count": 6,
   "id": "1f3f696f",
   "metadata": {},
   "outputs": [
    {
     "data": {
      "text/plain": [
       "0"
      ]
     },
     "execution_count": 6,
     "metadata": {},
     "output_type": "execute_result"
    }
   ],
   "source": [
    "data.duplicated().sum()"
   ]
  },
  {
   "cell_type": "code",
   "execution_count": 7,
   "id": "4f5b5a48",
   "metadata": {},
   "outputs": [
    {
     "data": {
      "text/plain": [
       "Unnamed: 0           0\n",
       "id                   0\n",
       "url                  0\n",
       "region               0\n",
       "region_url           0\n",
       "price                0\n",
       "year              1205\n",
       "manufacturer     17646\n",
       "model             5277\n",
       "condition       174104\n",
       "cylinders       177678\n",
       "fuel              3013\n",
       "odometer          4400\n",
       "title_status      8242\n",
       "transmission      2556\n",
       "VIN             161042\n",
       "drive           130567\n",
       "size            306361\n",
       "type             92858\n",
       "paint_color     130203\n",
       "image_url           68\n",
       "description         70\n",
       "county          426880\n",
       "state                0\n",
       "lat               6549\n",
       "long              6549\n",
       "posting_date        68\n",
       "removal_date        68\n",
       "dtype: int64"
      ]
     },
     "execution_count": 7,
     "metadata": {},
     "output_type": "execute_result"
    }
   ],
   "source": [
    "data.isnull().sum()"
   ]
  },
  {
   "cell_type": "code",
   "execution_count": 8,
   "id": "888ff788",
   "metadata": {},
   "outputs": [],
   "source": [
    "username = 'postgres'\n",
    "password = 'trainings12'\n",
    "host = 'localhost'\n",
    "port = 5432\n",
    "db_name = 'postgres'"
   ]
  },
  {
   "cell_type": "code",
   "execution_count": 9,
   "id": "d547055b",
   "metadata": {},
   "outputs": [],
   "source": [
    "engine = create_engine(f'postgresql://{username}:{password}@{host}:{port}/{db_name}')"
   ]
  },
  {
   "cell_type": "code",
   "execution_count": 11,
   "id": "44ee5bbb",
   "metadata": {},
   "outputs": [],
   "source": [
    "data.to_sql('capstone_project', engine, if_exists='replace', index=False)\n",
    "engine.dispose()"
   ]
  },
  {
   "cell_type": "code",
   "execution_count": null,
   "id": "8fc64f73",
   "metadata": {},
   "outputs": [],
   "source": []
  }
 ],
 "metadata": {
  "kernelspec": {
   "display_name": "Python 3 (ipykernel)",
   "language": "python",
   "name": "python3"
  },
  "language_info": {
   "codemirror_mode": {
    "name": "ipython",
    "version": 3
   },
   "file_extension": ".py",
   "mimetype": "text/x-python",
   "name": "python",
   "nbconvert_exporter": "python",
   "pygments_lexer": "ipython3",
   "version": "3.11.5"
  }
 },
 "nbformat": 4,
 "nbformat_minor": 5
}
